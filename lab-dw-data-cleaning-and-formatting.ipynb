{
 "cells": [
  {
   "cell_type": "markdown",
   "id": "25d7736c-ba17-4aff-b6bb-66eba20fbf4e",
   "metadata": {
    "id": "25d7736c-ba17-4aff-b6bb-66eba20fbf4e"
   },
   "source": [
    "# Lab | Data Cleaning and Formatting"
   ]
  },
  {
   "cell_type": "markdown",
   "id": "d1973e9e-8be6-4039-b70e-d73ee0d94c99",
   "metadata": {
    "id": "d1973e9e-8be6-4039-b70e-d73ee0d94c99"
   },
   "source": [
    "In this lab, we will be working with the customer data from an insurance company, which can be found in the CSV file located at the following link: https://raw.githubusercontent.com/data-bootcamp-v4/data/main/file1.csv\n"
   ]
  },
  {
   "cell_type": "markdown",
   "id": "31b8a9e7-7db9-4604-991b-ef6771603e57",
   "metadata": {
    "id": "31b8a9e7-7db9-4604-991b-ef6771603e57"
   },
   "source": [
    "# Challenge 1: Data Cleaning and Formatting"
   ]
  },
  {
   "cell_type": "markdown",
   "id": "81553f19-9f2c-484b-8940-520aff884022",
   "metadata": {
    "id": "81553f19-9f2c-484b-8940-520aff884022"
   },
   "source": [
    "## Exercise 1: Cleaning Column Names"
   ]
  },
  {
   "cell_type": "markdown",
   "id": "34a929f4-1be4-4fa8-adda-42ffd920be90",
   "metadata": {
    "id": "34a929f4-1be4-4fa8-adda-42ffd920be90"
   },
   "source": [
    "To ensure consistency and ease of use, standardize the column names of the dataframe. Start by taking a first look at the dataframe and identifying any column names that need to be modified. Use appropriate naming conventions and make sure that column names are descriptive and informative.\n",
    "\n",
    "*Hint*:\n",
    "- *Column names should be in lower case*\n",
    "- *White spaces in column names should be replaced by `_`*\n",
    "- *`st` could be replaced for `state`*"
   ]
  },
  {
   "cell_type": "code",
   "execution_count": 3,
   "id": "8d70b004",
   "metadata": {},
   "outputs": [],
   "source": [
    "import pandas as pd\n",
    "import numpy as np"
   ]
  },
  {
   "cell_type": "code",
   "execution_count": 6,
   "id": "5810735c-8056-4442-bbf2-dda38d3e284a",
   "metadata": {
    "id": "5810735c-8056-4442-bbf2-dda38d3e284a"
   },
   "outputs": [
    {
     "name": "stdout",
     "output_type": "stream",
     "text": [
      "Index(['customer', 'state', 'gender', 'education', 'customer_lifetime_value',\n",
      "       'income', 'monthly_premium_auto', 'number_of_open_complaints',\n",
      "       'policy_type', 'vehicle_class', 'total_claim_amount'],\n",
      "      dtype='object')\n"
     ]
    }
   ],
   "source": [
    "lab_df = pd.read_csv(\"https://raw.githubusercontent.com/data-bootcamp-v4/data/main/file1.csv\")\n",
    "\n",
    "# Convertir los nombres de las columnas a minúsculas\n",
    "lab_df.columns = lab_df.columns.str.lower()\n",
    "\n",
    "# Reemplazar espacios en blanco por guiones bajos\n",
    "lab_df.columns = lab_df.columns.str.replace(' ', '_', regex=True)\n",
    "\n",
    "# Reemplazar \"st\" por \"state\"\n",
    "lab_df.columns = lab_df.columns.str.replace(r'\\bst\\b', 'state', regex=True)\n",
    "\n",
    "# Verificar los nombres de las columnas actualizados\n",
    "print(lab_df.columns)\n"
   ]
  },
  {
   "cell_type": "code",
   "execution_count": 7,
   "id": "5e94821d",
   "metadata": {},
   "outputs": [
    {
     "name": "stdout",
     "output_type": "stream",
     "text": [
      "Unique values in 'gender' column:\n",
      "[nan 'F' 'M' 'Femal' 'Male' 'female']\n",
      "\n",
      "Unique values in 'state' column:\n",
      "['Washington' 'Arizona' 'Nevada' 'California' 'Oregon' 'Cali' 'AZ' 'WA'\n",
      " nan]\n",
      "\n",
      "Unique values in 'education' column:\n",
      "['Master' 'Bachelor' 'High School or Below' 'College' 'Bachelors' 'Doctor'\n",
      " nan]\n",
      "\n",
      "Unique values in 'customer_lifetime_value' column:\n",
      "[nan '697953.59%' '1288743.17%' ... '2031499.76%' '323912.47%'\n",
      " '899704.02%']\n",
      "\n",
      "Unique values in 'vehicle_class' column:\n",
      "['Four-Door Car' 'Two-Door Car' 'SUV' 'Luxury SUV' 'Sports Car'\n",
      " 'Luxury Car' nan]\n"
     ]
    }
   ],
   "source": [
    "# Imprimir los valores únicos de las columnas relevantes\n",
    "print(\"Unique values in 'gender' column:\")\n",
    "print(lab_df['gender'].unique())\n",
    "\n",
    "print(\"\\nUnique values in 'state' column:\")\n",
    "print(lab_df['state'].unique())\n",
    "\n",
    "print(\"\\nUnique values in 'education' column:\")\n",
    "print(lab_df['education'].unique())\n",
    "\n",
    "print(\"\\nUnique values in 'customer_lifetime_value' column:\")\n",
    "print(lab_df['customer_lifetime_value'].unique())\n",
    "\n",
    "print(\"\\nUnique values in 'vehicle_class' column:\")\n",
    "print(lab_df['vehicle_class'].unique())\n"
   ]
  },
  {
   "cell_type": "markdown",
   "id": "9cb501ec-36ff-4589-b872-6252bb150316",
   "metadata": {
    "id": "9cb501ec-36ff-4589-b872-6252bb150316"
   },
   "source": [
    "## Exercise 2: Cleaning invalid Values"
   ]
  },
  {
   "cell_type": "markdown",
   "id": "771fdcf3-8e20-4b06-9c24-3a93ba2b0909",
   "metadata": {
    "id": "771fdcf3-8e20-4b06-9c24-3a93ba2b0909"
   },
   "source": [
    "The dataset contains columns with inconsistent and incorrect values that could affect the accuracy of our analysis. Therefore, we need to clean these columns to ensure that they only contain valid data.\n",
    "\n",
    "Note that this exercise will focus only on cleaning inconsistent values and will not involve handling null values (NaN or None).\n",
    "\n",
    "*Hint*:\n",
    "- *Gender column contains various inconsistent values such as \"F\", \"M\", \"Femal\", \"Male\", \"female\", which need to be standardized, for example, to \"M\" and \"F\".*\n",
    "- *State abbreviations be can replaced with its full name, for example \"AZ\": \"Arizona\", \"Cali\": \"California\", \"WA\": \"Washington\"*\n",
    "- *In education, \"Bachelors\" could be replaced by \"Bachelor\"*\n",
    "- *In Customer Lifetime Value, delete the `%` character*\n",
    "- *In vehicle class, \"Sports Car\", \"Luxury SUV\" and \"Luxury Car\" could be replaced by \"Luxury\"*"
   ]
  },
  {
   "cell_type": "code",
   "execution_count": 13,
   "id": "3f8ee5cb-50ab-48af-8a9f-9a389804033c",
   "metadata": {
    "id": "3f8ee5cb-50ab-48af-8a9f-9a389804033c"
   },
   "outputs": [
    {
     "name": "stdout",
     "output_type": "stream",
     "text": [
      "Unique values in 'gender' column:\n",
      "[nan 'F' 'M']\n",
      "\n",
      "Unique values in 'state' column:\n",
      "['Washington' 'Arizona' 'Nevada' 'California' 'Oregon' nan]\n",
      "\n",
      "Unique values in 'education' column:\n",
      "['Master' 'Bachelor' 'High School or Below' 'College' 'Doctor' nan]\n",
      "\n",
      "Unique values in 'customer_lifetime_value' column:\n",
      "[nan '697953.59' '1288743.17' ... '2031499.76' '323912.47' '899704.02']\n",
      "\n",
      "Unique values in 'vehicle_class' column:\n",
      "['Four-Door Car' 'Two-Door Car' 'SUV' 'Luxury' nan]\n"
     ]
    }
   ],
   "source": [
    "# Establecer las transformaciones para cada columna\n",
    "\n",
    "# 1. Estandarizar la columna 'gender'\n",
    "lab_df['gender'] = lab_df['gender'].replace({\n",
    "    'Femal': 'F',\n",
    "    'female': 'F',\n",
    "    'Male': 'M',\n",
    "    'M': 'M',\n",
    "    'F': 'F'\n",
    "})\n",
    "\n",
    "# 2. Reemplazar abreviaturas de estados por su nombre completo\n",
    "state_map = {\n",
    "    'AZ': 'Arizona',\n",
    "    'Cali': 'California',\n",
    "    'WA': 'Washington'\n",
    "}\n",
    "lab_df['state'] = lab_df['state'].replace(state_map)\n",
    "\n",
    "# 3. Establecer \"Bachelors\" como \"Bachelor\" en la columna 'education'\n",
    "lab_df['education'] = lab_df['education'].replace('Bachelors', 'Bachelor')\n",
    "\n",
    "# 4. Eliminar el carácter '%' de la columna 'customer_lifetime_value'\n",
    "lab_df['customer_lifetime_value'] = lab_df['customer_lifetime_value'].replace('%', '', regex=True)\n",
    "\n",
    "# 5. Reemplazar valores en 'vehicle_class'\n",
    "lab_df['vehicle_class'] = lab_df['vehicle_class'].replace({\n",
    "    'Sports Car': 'Luxury',\n",
    "    'Luxury SUV': 'Luxury',\n",
    "    'Luxury Car': 'Luxury'\n",
    "})\n",
    "\n",
    "# Imprimir los valores únicos de las columnas relevantes\n",
    "print(\"Unique values in 'gender' column:\")\n",
    "print(lab_df['gender'].unique())\n",
    "\n",
    "print(\"\\nUnique values in 'state' column:\")\n",
    "print(lab_df['state'].unique())\n",
    "\n",
    "print(\"\\nUnique values in 'education' column:\")\n",
    "print(lab_df['education'].unique())\n",
    "\n",
    "print(\"\\nUnique values in 'customer_lifetime_value' column:\")\n",
    "print(lab_df['customer_lifetime_value'].unique())\n",
    "\n",
    "print(\"\\nUnique values in 'vehicle_class' column:\")\n",
    "print(lab_df['vehicle_class'].unique())\n"
   ]
  },
  {
   "cell_type": "markdown",
   "id": "85ff78ce-0174-4890-9db3-8048b7d7d2d0",
   "metadata": {
    "id": "85ff78ce-0174-4890-9db3-8048b7d7d2d0"
   },
   "source": [
    "## Exercise 3: Formatting data types"
   ]
  },
  {
   "cell_type": "markdown",
   "id": "b91c2cf8-79a2-4baf-9f65-ff2fb22270bd",
   "metadata": {
    "id": "b91c2cf8-79a2-4baf-9f65-ff2fb22270bd"
   },
   "source": [
    "The data types of many columns in the dataset appear to be incorrect. This could impact the accuracy of our analysis. To ensure accurate analysis, we need to correct the data types of these columns. Please update the data types of the columns as appropriate."
   ]
  },
  {
   "cell_type": "markdown",
   "id": "43e5d853-ff9e-43b2-9d92-aef2f78764f3",
   "metadata": {
    "id": "43e5d853-ff9e-43b2-9d92-aef2f78764f3"
   },
   "source": [
    "It is important to note that this exercise does not involve handling null values (NaN or None)."
   ]
  },
  {
   "cell_type": "markdown",
   "id": "329ca691-9196-4419-8969-3596746237a1",
   "metadata": {
    "id": "329ca691-9196-4419-8969-3596746237a1"
   },
   "source": [
    "*Hint*:\n",
    "- *Customer lifetime value should be numeric*\n",
    "- *Number of open complaints has an incorrect format. Look at the different values it takes with `unique()` and take the middle value. As an example, 1/5/00 should be 5. Number of open complaints is a string - remember you can use `split()` to deal with it and take the number you need. Finally, since it should be numeric, cast the column to be in its proper type.*"
   ]
  },
  {
   "cell_type": "code",
   "execution_count": 14,
   "id": "eb8f5991-73e9-405f-bf1c-6b7c589379a9",
   "metadata": {
    "id": "eb8f5991-73e9-405f-bf1c-6b7c589379a9"
   },
   "outputs": [
    {
     "name": "stdout",
     "output_type": "stream",
     "text": [
      "\n",
      "Unique values in 'customer_lifetime_value' column:\n",
      "[       nan  697953.59 1288743.17 ... 2031499.76  323912.47  899704.02]\n",
      "\n",
      "Unique values in 'number_of_open_complaints' column:\n",
      "[ 0.  2.  1.  3.  5.  4. nan]\n"
     ]
    }
   ],
   "source": [
    "lab_df['customer_lifetime_value'] = pd.to_numeric(lab_df['customer_lifetime_value'], errors='coerce')\n",
    "\n",
    "# 2. Corregir el formato de 'number_of_open_complaints'\n",
    "# Usamos split para extraer la parte central del formato '1/5/00' (debería ser '5' en este caso)\n",
    "lab_df['number_of_open_complaints'] = lab_df['number_of_open_complaints'].apply(lambda x: str(x).split('/')[1] if isinstance(x, str) else x)\n",
    "\n",
    "# Convertir 'number_of_open_complaints' a tipo numérico\n",
    "lab_df['number_of_open_complaints'] = pd.to_numeric(lab_df['number_of_open_complaints'], errors='coerce')\n",
    "\n",
    "# Verificar los valores únicos después de las transformaciones\n",
    "print(\"\\nUnique values in 'customer_lifetime_value' column:\")\n",
    "print(lab_df['customer_lifetime_value'].unique())\n",
    "\n",
    "print(\"\\nUnique values in 'number_of_open_complaints' column:\")\n",
    "print(lab_df['number_of_open_complaints'].unique())"
   ]
  },
  {
   "cell_type": "markdown",
   "id": "14c52e28-2d0c-4dd2-8bd5-3476e34fadc1",
   "metadata": {
    "id": "14c52e28-2d0c-4dd2-8bd5-3476e34fadc1"
   },
   "source": [
    "## Exercise 4: Dealing with Null values"
   ]
  },
  {
   "cell_type": "markdown",
   "id": "34b9a20f-7d32-4417-975e-1b4dfb0e16cd",
   "metadata": {
    "id": "34b9a20f-7d32-4417-975e-1b4dfb0e16cd"
   },
   "source": [
    "Identify any columns with null or missing values. Identify how many null values each column has. You can use the `isnull()` function in pandas to find columns with null values.\n",
    "\n",
    "Decide on a strategy for handling the null values. There are several options, including:\n",
    "\n",
    "- Drop the rows or columns with null values\n",
    "- Fill the null values with a specific value (such as the column mean or median for numerical variables, and mode for categorical variables)\n",
    "- Fill the null values with the previous or next value in the column\n",
    "- Fill the null values based on a more complex algorithm or model (note: we haven't covered this yet)\n",
    "\n",
    "Implement your chosen strategy to handle the null values. You can use the `fillna()` function in pandas to fill null values or `dropna()` function to drop null values.\n",
    "\n",
    "Verify that your strategy has successfully handled the null values. You can use the `isnull()` function again to check if there are still null values in the dataset.\n",
    "\n",
    "Remember to document your process and explain your reasoning for choosing a particular strategy for handling null values.\n",
    "\n",
    "After formatting data types, as a last step, convert all the numeric variables to integers."
   ]
  },
  {
   "cell_type": "code",
   "execution_count": 16,
   "id": "f184fc35-7831-4836-a0a5-e7f99e01b40e",
   "metadata": {
    "id": "f184fc35-7831-4836-a0a5-e7f99e01b40e"
   },
   "outputs": [
    {
     "name": "stdout",
     "output_type": "stream",
     "text": [
      "\n",
      "Número de valores nulos por columna:\n",
      "customer                     0\n",
      "state                        0\n",
      "gender                       0\n",
      "education                    0\n",
      "customer_lifetime_value      0\n",
      "income                       0\n",
      "monthly_premium_auto         0\n",
      "number_of_open_complaints    0\n",
      "policy_type                  0\n",
      "vehicle_class                0\n",
      "total_claim_amount           0\n",
      "dtype: int64\n",
      "\n",
      "Número de valores nulos por columna después de manejar los nulos:\n",
      "customer                     0\n",
      "state                        0\n",
      "gender                       0\n",
      "education                    0\n",
      "customer_lifetime_value      0\n",
      "income                       0\n",
      "monthly_premium_auto         0\n",
      "number_of_open_complaints    0\n",
      "policy_type                  0\n",
      "vehicle_class                0\n",
      "total_claim_amount           0\n",
      "dtype: int64\n",
      "\n",
      "Tipos de datos después de convertir las columnas numéricas a enteros:\n",
      "customer                     object\n",
      "state                        object\n",
      "gender                       object\n",
      "education                    object\n",
      "customer_lifetime_value       int32\n",
      "income                        int32\n",
      "monthly_premium_auto          int32\n",
      "number_of_open_complaints     int32\n",
      "policy_type                  object\n",
      "vehicle_class                object\n",
      "total_claim_amount            int32\n",
      "dtype: object\n"
     ]
    }
   ],
   "source": [
    "# 1. Identificar las columnas con valores nulos\n",
    "null_values = lab_df.isnull().sum()\n",
    "print(\"\\nNúmero de valores nulos por columna:\")\n",
    "print(null_values)\n",
    "\n",
    "# 2. Estrategia para manejar los valores nulos:\n",
    "# Llenar los valores nulos en columnas numéricas con la media\n",
    "numeric_columns = lab_df.select_dtypes(include=['float64', 'int64']).columns\n",
    "lab_df[numeric_columns] = lab_df[numeric_columns].fillna(lab_df[numeric_columns].mean())\n",
    "\n",
    "# Llenar los valores nulos en columnas categóricas con la moda\n",
    "categorical_columns = lab_df.select_dtypes(include=['object']).columns\n",
    "for col in categorical_columns:\n",
    "    lab_df[col] = lab_df[col].fillna(lab_df[col].mode()[0])\n",
    "\n",
    "# 3. Verificar que los valores nulos hayan sido manejados\n",
    "null_values_after = lab_df.isnull().sum()\n",
    "print(\"\\nNúmero de valores nulos por columna después de manejar los nulos:\")\n",
    "print(null_values_after)\n",
    "\n",
    "# 4. Convertir todas las columnas numéricas a enteros\n",
    "lab_df[numeric_columns] = lab_df[numeric_columns].apply(pd.to_numeric, downcast='integer', errors='coerce')\n",
    "\n",
    "# Verificar el tipo de las columnas después de la conversión\n",
    "print(\"\\nTipos de datos después de convertir las columnas numéricas a enteros:\")\n",
    "print(lab_df.dtypes)\n",
    "\n"
   ]
  },
  {
   "cell_type": "markdown",
   "id": "98416351-e999-4156-9834-9b00a311adfa",
   "metadata": {
    "id": "98416351-e999-4156-9834-9b00a311adfa"
   },
   "source": [
    "## Exercise 5: Dealing with duplicates"
   ]
  },
  {
   "cell_type": "markdown",
   "id": "ea0816a7-a18e-4d4c-b667-a8452a800bd1",
   "metadata": {
    "id": "ea0816a7-a18e-4d4c-b667-a8452a800bd1"
   },
   "source": [
    "Use the `.duplicated()` method to identify any duplicate rows in the dataframe.\n",
    "\n",
    "Decide on a strategy for handling the duplicates. Options include:\n",
    "- Dropping all duplicate rows\n",
    "- Keeping only the first occurrence of each duplicated row\n",
    "- Keeping only the last occurrence of each duplicated row\n",
    "- Dropping duplicates based on a subset of columns\n",
    "- Dropping duplicates based on a specific column\n",
    "\n",
    "Implement your chosen strategy using the `drop_duplicates()` function.\n",
    "\n",
    "Verify that your strategy has successfully handled the duplicates by checking for duplicates again using `.duplicated()`.\n",
    "\n",
    "Remember to document your process and explain your reasoning for choosing a particular strategy for handling duplicates.\n",
    "\n",
    "Save the cleaned dataset to a new CSV file.\n",
    "\n",
    "*Hint*: *after dropping duplicates, reset the index to ensure consistency*."
   ]
  },
  {
   "cell_type": "code",
   "execution_count": 19,
   "id": "1929362c-47ed-47cb-baca-358b78d401a0",
   "metadata": {
    "id": "1929362c-47ed-47cb-baca-358b78d401a0"
   },
   "outputs": [
    {
     "name": "stdout",
     "output_type": "stream",
     "text": [
      "\n",
      "Filas duplicadas:\n",
      "2936\n",
      "\n",
      "Filas duplicadas después de eliminar:\n",
      "0\n",
      "\n",
      "Primeras 5 filas después de eliminar duplicados:\n",
      "  customer       state gender             education  customer_lifetime_value  \\\n",
      "0  RB50392  Washington      F                Master                   588174   \n",
      "1  QZ44356     Arizona      F              Bachelor                   697953   \n",
      "2  AI49188      Nevada      F              Bachelor                  1288743   \n",
      "3  WW63253  California      M              Bachelor                   764586   \n",
      "4  GA49547  Washington      M  High School or Below                   536307   \n",
      "\n",
      "   income  monthly_premium_auto  number_of_open_complaints     policy_type  \\\n",
      "0       0                  1000                          0   Personal Auto   \n",
      "1       0                    94                          0   Personal Auto   \n",
      "2   48767                   108                          0   Personal Auto   \n",
      "3       0                   106                          0  Corporate Auto   \n",
      "4   36357                    68                          0   Personal Auto   \n",
      "\n",
      "   vehicle_class  total_claim_amount  \n",
      "0  Four-Door Car                   2  \n",
      "1  Four-Door Car                1131  \n",
      "2   Two-Door Car                 566  \n",
      "3            SUV                 529  \n",
      "4  Four-Door Car                  17  \n",
      "\n",
      "Últimas 5 filas después de eliminar duplicados:\n",
      "     customer       state gender             education  \\\n",
      "1067  VJ51327  California      F  High School or Below   \n",
      "1068  GS98873     Arizona      F              Bachelor   \n",
      "1069  CW49887  California      F                Master   \n",
      "1070  MY31220  California      F               College   \n",
      "1071  AA71604  California      F              Bachelor   \n",
      "\n",
      "      customer_lifetime_value  income  monthly_premium_auto  \\\n",
      "1067                  2031499   63209                   102   \n",
      "1068                   323912   16061                    88   \n",
      "1069                   462680   79487                   114   \n",
      "1070                   899704   54230                   112   \n",
      "1071                   588174   36234                    83   \n",
      "\n",
      "      number_of_open_complaints    policy_type  vehicle_class  \\\n",
      "1067                          2  Personal Auto            SUV   \n",
      "1068                          0  Personal Auto  Four-Door Car   \n",
      "1069                          0   Special Auto            SUV   \n",
      "1070                          0  Personal Auto   Two-Door Car   \n",
      "1071                          0  Personal Auto  Four-Door Car   \n",
      "\n",
      "      total_claim_amount  \n",
      "1067                 207  \n",
      "1068                 633  \n",
      "1069                 547  \n",
      "1070                 537  \n",
      "1071                 354  \n"
     ]
    }
   ],
   "source": [
    "duplicates = lab_df.duplicated()\n",
    "print(\"\\nFilas duplicadas:\")\n",
    "print(duplicates.sum())\n",
    "\n",
    "lab_df_cleaned = lab_df.drop_duplicates(keep='first')\n",
    "\n",
    "duplicates_after = lab_df_cleaned.duplicated()\n",
    "print(\"\\nFilas duplicadas después de eliminar:\")\n",
    "print(duplicates_after.sum())\n",
    "\n",
    "lab_df_cleaned.reset_index(drop=True, inplace=True)\n",
    "\n",
    "lab_df_cleaned.to_csv(\"lab_df_cleaned.csv\", index=False)\n",
    "\n",
    "print(\"\\nPrimeras 5 filas después de eliminar duplicados:\")\n",
    "print(lab_df_cleaned.head())\n",
    "\n",
    "print(\"\\nÚltimas 5 filas después de eliminar duplicados:\")\n",
    "print(lab_df_cleaned.tail())\n"
   ]
  },
  {
   "cell_type": "markdown",
   "id": "60840701-4783-40e2-b4d8-55303f9100c9",
   "metadata": {
    "id": "60840701-4783-40e2-b4d8-55303f9100c9"
   },
   "source": [
    "# Bonus: Challenge 2: creating functions on a separate `py` file"
   ]
  },
  {
   "cell_type": "markdown",
   "id": "9d1adb3a-17cf-4899-8041-da21a4337fb4",
   "metadata": {
    "id": "9d1adb3a-17cf-4899-8041-da21a4337fb4"
   },
   "source": [
    "Put all the data cleaning and formatting steps into functions, and create a main function that performs all the cleaning and formatting.\n",
    "\n",
    "Write these functions in separate .py file(s). By putting these steps into functions, we can make the code more modular and easier to maintain."
   ]
  },
  {
   "cell_type": "markdown",
   "id": "0e170dc2-b62c-417a-8248-e63ed18a70c4",
   "metadata": {
    "id": "0e170dc2-b62c-417a-8248-e63ed18a70c4"
   },
   "source": [
    "*Hint: autoreload module is a utility module in Python that allows you to automatically reload modules in the current session when changes are made to the source code. This can be useful in situations where you are actively developing code and want to see the effects of changes you make without having to constantly restart the Python interpreter or Jupyter Notebook kernel.*"
   ]
  },
  {
   "cell_type": "code",
   "execution_count": 25,
   "id": "5630a9ed",
   "metadata": {},
   "outputs": [
    {
     "ename": "ModuleNotFoundError",
     "evalue": "No module named 'data_cleaning'",
     "output_type": "error",
     "traceback": [
      "\u001b[1;31m---------------------------------------------------------------------------\u001b[0m",
      "\u001b[1;31mModuleNotFoundError\u001b[0m                       Traceback (most recent call last)",
      "Cell \u001b[1;32mIn[25], line 84\u001b[0m\n\u001b[0;32m     81\u001b[0m     df[numeric_columns] \u001b[38;5;241m=\u001b[39m df[numeric_columns]\u001b[38;5;241m.\u001b[39mapply(pd\u001b[38;5;241m.\u001b[39mto_numeric, downcast\u001b[38;5;241m=\u001b[39m\u001b[38;5;124m'\u001b[39m\u001b[38;5;124minteger\u001b[39m\u001b[38;5;124m'\u001b[39m, errors\u001b[38;5;241m=\u001b[39m\u001b[38;5;124m'\u001b[39m\u001b[38;5;124mcoerce\u001b[39m\u001b[38;5;124m'\u001b[39m)\n\u001b[0;32m     82\u001b[0m     \u001b[38;5;28;01mreturn\u001b[39;00m df\n\u001b[1;32m---> 84\u001b[0m \u001b[38;5;28;01mfrom\u001b[39;00m \u001b[38;5;21;01mdata_cleaning\u001b[39;00m \u001b[38;5;28;01mimport\u001b[39;00m load_data, clean_column_names, standardize_values\n\u001b[0;32m     85\u001b[0m \u001b[38;5;28;01mfrom\u001b[39;00m \u001b[38;5;21;01mdata_transformations\u001b[39;00m \u001b[38;5;28;01mimport\u001b[39;00m convert_to_numeric, correct_complaints_format, handle_missing_values, convert_columns_to_int\n\u001b[0;32m     87\u001b[0m \u001b[38;5;28;01mdef\u001b[39;00m \u001b[38;5;21mmain\u001b[39m():\n\u001b[0;32m     88\u001b[0m     \u001b[38;5;66;03m# Load the dataset\u001b[39;00m\n",
      "\u001b[1;31mModuleNotFoundError\u001b[0m: No module named 'data_cleaning'"
     ]
    }
   ],
   "source": [
    "import pandas as pd\n",
    "\n",
    "def load_data(url):\n",
    "    \"\"\"\n",
    "    Loads the dataset from a given URL.\n",
    "    \"\"\"\n",
    "    return pd.read_csv(url)\n",
    "\n",
    "def clean_column_names(df):\n",
    "    \"\"\"\n",
    "    Cleans the column names by making them lowercase and replacing spaces with underscores.\n",
    "    \"\"\"\n",
    "    df.columns = df.columns.str.lower()\n",
    "    df.columns = df.columns.str.replace(' ', '_', regex=True)\n",
    "    df.columns = df.columns.str.replace(r'\\bst\\b', 'state', regex=True)\n",
    "    return df\n",
    "\n",
    "def standardize_values(df):\n",
    "    \"\"\"\n",
    "    Standardizes specific columns by correcting values.\n",
    "    \"\"\"\n",
    "    # Standardize gender values\n",
    "    df['gender'] = df['gender'].replace({\n",
    "        'Femal': 'F', 'female': 'F', 'Male': 'M', 'M': 'M', 'F': 'F'\n",
    "    })\n",
    "\n",
    "    # Replace state abbreviations with full names\n",
    "    state_map = {\n",
    "        'AZ': 'Arizona', 'Cali': 'California', 'WA': 'Washington'\n",
    "    }\n",
    "    df['state'] = df['state'].replace(state_map)\n",
    "\n",
    "    # Set education values to a consistent format\n",
    "    df['education'] = df['education'].replace('Bachelors', 'Bachelor')\n",
    "\n",
    "    # Remove '%' from customer_lifetime_value\n",
    "    df['customer_lifetime_value'] = df['customer_lifetime_value'].replace('%', '', regex=True)\n",
    "\n",
    "    # Replace vehicle class values\n",
    "    df['vehicle_class'] = df['vehicle_class'].replace({\n",
    "        'Sports Car': 'Luxury', 'Luxury SUV': 'Luxury', 'Luxury Car': 'Luxury'\n",
    "    })\n",
    "    return df\n",
    "\n",
    "\n",
    "def convert_to_numeric(df):\n",
    "    \"\"\"\n",
    "    Converts 'customer_lifetime_value' to numeric and handles errors.\n",
    "    \"\"\"\n",
    "    df['customer_lifetime_value'] = pd.to_numeric(df['customer_lifetime_value'], errors='coerce')\n",
    "    return df\n",
    "\n",
    "def correct_complaints_format(df):\n",
    "    \"\"\"\n",
    "    Extracts the relevant part from 'number_of_open_complaints' and converts it to numeric.\n",
    "    \"\"\"\n",
    "    df['number_of_open_complaints'] = df['number_of_open_complaints'].apply(lambda x: str(x).split('/')[1] if isinstance(x, str) else x)\n",
    "    df['number_of_open_complaints'] = pd.to_numeric(df['number_of_open_complaints'], errors='coerce')\n",
    "    return df\n",
    "\n",
    "def handle_missing_values(df):\n",
    "    \"\"\"\n",
    "    Handles missing values by filling them with mean (for numeric) or mode (for categorical).\n",
    "    \"\"\"\n",
    "    # Fill missing numeric columns with the mean\n",
    "    numeric_columns = df.select_dtypes(include=['float64', 'int64']).columns\n",
    "    df[numeric_columns] = df[numeric_columns].fillna(df[numeric_columns].mean())\n",
    "\n",
    "    # Fill missing categorical columns with the mode\n",
    "    categorical_columns = df.select_dtypes(include=['object']).columns\n",
    "    for col in categorical_columns:\n",
    "        df[col] = df[col].fillna(df[col].mode()[0])\n",
    "\n",
    "    return df\n",
    "\n",
    "def convert_columns_to_int(df):\n",
    "    \"\"\"\n",
    "    Converts numeric columns to integers.\n",
    "    \"\"\"\n",
    "    numeric_columns = df.select_dtypes(include=['float64', 'int64']).columns\n",
    "    df[numeric_columns] = df[numeric_columns].apply(pd.to_numeric, downcast='integer', errors='coerce')\n",
    "    return df\n",
    "\n",
    "from data_cleaning import load_data, clean_column_names, standardize_values\n",
    "from data_transformations import convert_to_numeric, correct_complaints_format, handle_missing_values, convert_columns_to_int\n",
    "\n",
    "def main():\n",
    "    # Load the dataset\n",
    "    url = \"https://raw.githubusercontent.com/data-bootcamp-v4/data/main/file1.csv\"\n",
    "    df = load_data(url)\n",
    "\n",
    "    # Clean and format the dataset\n",
    "    df = clean_column_names(df)\n",
    "    df = standardize_values(df)\n",
    "    df = convert_to_numeric(df)\n",
    "    df = correct_complaints_format(df)\n",
    "    df = handle_missing_values(df)\n",
    "    df = convert_columns_to_int(df)\n",
    "\n",
    "    # Display the cleaned data\n",
    "    print(df.head())\n",
    "    df.to_csv(\"lab_df_cleaned.csv\", index=False)\n",
    "\n",
    "if __name__ == \"__main__\":\n",
    "    main()\n",
    "\n",
    "%load_ext autoreload\n",
    "%autoreload 2\n"
   ]
  },
  {
   "cell_type": "markdown",
   "id": "80f846bb-3f5e-4ca2-96c0-900728daca5a",
   "metadata": {
    "id": "80f846bb-3f5e-4ca2-96c0-900728daca5a",
    "tags": []
   },
   "source": [
    "# Bonus: Challenge 3: Analyzing Clean and Formated Data"
   ]
  },
  {
   "cell_type": "markdown",
   "id": "9021630e-cc90-446c-b5bd-264d6c864207",
   "metadata": {
    "id": "9021630e-cc90-446c-b5bd-264d6c864207"
   },
   "source": [
    "You have been tasked with analyzing the data to identify potential areas for improving customer retention and profitability. Your goal is to identify customers with a high policy claim amount and a low customer lifetime value.\n",
    "\n",
    "In the Pandas Lab, we only looked at high policy claim amounts because we couldn't look into low customer lifetime values. If we had tried to work with that column, we wouldn't have been able to because customer lifetime value wasn't clean and in its proper format. So after cleaning and formatting the data, let's get some more interesting insights!\n",
    "\n",
    "Instructions:\n",
    "\n",
    "- Review the statistics again for total claim amount and customer lifetime value to gain an understanding of the data.\n",
    "- To identify potential areas for improving customer retention and profitability, we want to focus on customers with a high policy claim amount and a low customer lifetime value. Consider customers with a high policy claim amount to be those in the top 25% of the total claim amount, and clients with a low customer lifetime value to be those in the bottom 25% of the customer lifetime value. Create a pandas DataFrame object that contains information about customers with a policy claim amount greater than the 75th percentile and a customer lifetime value in the bottom 25th percentile.\n",
    "- Use DataFrame methods to calculate summary statistics about the high policy claim amount and low customer lifetime value data. To do so, select both columns of the dataframe simultaneously and pass it to the `.describe()` method. This will give you descriptive statistics, such as mean, median, standard deviation, minimum and maximum values for both columns at the same time, allowing you to compare and analyze their characteristics."
   ]
  },
  {
   "cell_type": "code",
   "execution_count": 27,
   "id": "211e82b5-461a-4d6f-8a23-4deccb84173c",
   "metadata": {
    "id": "211e82b5-461a-4d6f-8a23-4deccb84173c"
   },
   "outputs": [
    {
     "name": "stdout",
     "output_type": "stream",
     "text": [
      "Summary statistics for total claim amount and customer lifetime value:\n",
      "       total_claim_amount  customer_lifetime_value\n",
      "count         1072.000000             1.072000e+03\n",
      "mean           404.481343             7.929229e+05\n",
      "std            292.909076             6.423980e+05\n",
      "min              0.000000             2.004350e+05\n",
      "25%            201.750000             4.054045e+05\n",
      "50%            354.000000             5.881740e+05\n",
      "75%            532.000000             8.937668e+05\n",
      "max           2893.000000             5.816655e+06\n",
      "\n",
      "Summary statistics for high policy claim amount and low customer lifetime value:\n",
      "       total_claim_amount  customer_lifetime_value\n",
      "count           40.000000                40.000000\n",
      "mean           723.300000            341577.425000\n",
      "std            149.216449             56921.466178\n",
      "min            537.000000            228759.000000\n",
      "25%            632.750000            304220.500000\n",
      "50%            685.000000            365995.000000\n",
      "75%            799.000000            387364.000000\n",
      "max           1185.000000            402381.000000\n",
      "\n",
      "Customers with high claim amount and low customer lifetime value:\n",
      "   customer       state gender education  customer_lifetime_value  income  \\\n",
      "17  OE15005  California      F   College                   394524   28855   \n",
      "23  TZ98966      Nevada      F  Bachelor                   245019       0   \n",
      "26  US89481  California      F  Bachelor                   394637       0   \n",
      "38  CM61827      Oregon      F  Bachelor                   309003       0   \n",
      "42  IL19217  California      F  Bachelor                   393900   60021   \n",
      "\n",
      "    monthly_premium_auto  number_of_open_complaints     policy_type  \\\n",
      "17                   101                          0   Personal Auto   \n",
      "23                    73                          3  Corporate Auto   \n",
      "26                   111                          0   Personal Auto   \n",
      "38                    90                          0   Personal Auto   \n",
      "42                    99                          0   Personal Auto   \n",
      "\n",
      "    vehicle_class  total_claim_amount  \n",
      "17            SUV                 647  \n",
      "23  Four-Door Car                 554  \n",
      "26  Four-Door Car                 799  \n",
      "38   Two-Door Car                 648  \n",
      "42  Four-Door Car                 882  \n"
     ]
    }
   ],
   "source": [
    "lab_df_cleaned = pd.read_csv(\"lab_df_cleaned.csv\")\n",
    "\n",
    "print(\"Summary statistics for total claim amount and customer lifetime value:\")\n",
    "print(lab_df_cleaned[['total_claim_amount', 'customer_lifetime_value']].describe())\n",
    "\n",
    "high_claim_threshold = lab_df_cleaned['total_claim_amount'].quantile(0.75)  # 75th percentile\n",
    "low_clv_threshold = lab_df_cleaned['customer_lifetime_value'].quantile(0.25)  # 25th percentile\n",
    "\n",
    "high_claim_low_clv_df = lab_df_cleaned[\n",
    "    (lab_df_cleaned['total_claim_amount'] > high_claim_threshold) &\n",
    "    (lab_df_cleaned['customer_lifetime_value'] < low_clv_threshold)\n",
    "]\n",
    "\n",
    "print(\"\\nSummary statistics for high policy claim amount and low customer lifetime value:\")\n",
    "print(high_claim_low_clv_df[['total_claim_amount', 'customer_lifetime_value']].describe())\n",
    "\n",
    "print(\"\\nCustomers with high claim amount and low customer lifetime value:\")\n",
    "print(high_claim_low_clv_df.head())"
   ]
  }
 ],
 "metadata": {
  "colab": {
   "provenance": []
  },
  "kernelspec": {
   "display_name": "base",
   "language": "python",
   "name": "python3"
  },
  "language_info": {
   "codemirror_mode": {
    "name": "ipython",
    "version": 3
   },
   "file_extension": ".py",
   "mimetype": "text/x-python",
   "name": "python",
   "nbconvert_exporter": "python",
   "pygments_lexer": "ipython3",
   "version": "3.12.4"
  }
 },
 "nbformat": 4,
 "nbformat_minor": 5
}
